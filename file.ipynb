{
 "cells": [
  {
   "cell_type": "code",
   "execution_count": 18,
   "id": "1ba0e784-ca0a-4f58-8357-ed1f0604aeed",
   "metadata": {},
   "outputs": [],
   "source": [
    "f = open(\"test.txt\",encoding = 'utf-8') \n"
   ]
  },
  {
   "cell_type": "code",
   "execution_count": 3,
   "id": "9d4055b4-6680-4952-b652-148ba0e7d367",
   "metadata": {},
   "outputs": [
    {
     "data": {
      "text/plain": [
       "'This'"
      ]
     },
     "execution_count": 3,
     "metadata": {},
     "output_type": "execute_result"
    }
   ],
   "source": [
    "f.read(4)    # read the first 4 data\n"
   ]
  },
  {
   "cell_type": "code",
   "execution_count": 4,
   "id": "c7252157-c71a-46cb-988c-8748b9d1bc76",
   "metadata": {},
   "outputs": [
    {
     "data": {
      "text/plain": [
       "' is my first file\\nThis file\\ncontains three lines'"
      ]
     },
     "execution_count": 4,
     "metadata": {},
     "output_type": "execute_result"
    }
   ],
   "source": [
    "f.read() "
   ]
  },
  {
   "cell_type": "code",
   "execution_count": 13,
   "id": "be40d90e-574e-4fe0-91af-f1982b5a25a0",
   "metadata": {},
   "outputs": [
    {
     "name": "stdout",
     "output_type": "stream",
     "text": [
      "This is my first file\n",
      "********This file\n",
      "********contains three lines********"
     ]
    }
   ],
   "source": [
    "for line in f:\n",
    "    print(line, end = '********')"
   ]
  },
  {
   "cell_type": "code",
   "execution_count": 16,
   "id": "485fcbc0-f006-4ee1-bdfe-f0af0ef80a72",
   "metadata": {},
   "outputs": [
    {
     "name": "stdout",
     "output_type": "stream",
     "text": [
      "['This is my first file\\n', 'This file\\n', 'contains three lines']\n"
     ]
    }
   ],
   "source": [
    "print(f.readlines())"
   ]
  },
  {
   "cell_type": "code",
   "execution_count": 19,
   "id": "b999b0bd-2ba5-4dd6-ba31-f3f531a424a1",
   "metadata": {},
   "outputs": [
    {
     "name": "stdout",
     "output_type": "stream",
     "text": [
      "This is my first file\n",
      "\n"
     ]
    }
   ],
   "source": [
    "print(f.readline())"
   ]
  },
  {
   "cell_type": "code",
   "execution_count": 24,
   "id": "e9a3da53-7c0a-4f55-84f7-85697386ce3c",
   "metadata": {},
   "outputs": [],
   "source": [
    "with open(\"test1.txt\",'w',encoding = 'utf-8') as f:\n",
    "    \n",
    "   f.write(\"my first file\\n\")\n",
    "   f.write(\"This file\\n\\n\")\n",
    "   f.write(\"contains three lines\\n\")"
   ]
  },
  {
   "cell_type": "markdown",
   "id": "a8e77346-4311-4b21-b225-80e56dcddbe4",
   "metadata": {},
   "source": [
    "### print(f.readlines())"
   ]
  },
  {
   "cell_type": "code",
   "execution_count": 28,
   "id": "b390861d-b36f-4aeb-b0a5-5c5a8c3ed34a",
   "metadata": {},
   "outputs": [
    {
     "data": {
      "text/plain": [
       "'What is Python language?                                                \\nPython is a widely used high-level, general-purpose, interpreted, dynamic programming language.Its design philosophy emphasizes code readability, and its syntax allows programmers to express concepts in fewer lines of code than possible in \\nlanguages such as C++ or Java. \\nPython supports multiple programming paradigms, including object-oriented, imperative and functional programming or procedural styles. It features a dynamic type system and automatic memory management and has a large and comprehensive standard library.The best way we learn anything is by practice and exercise questions. We  have started this section for those (beginner to intermediate) who are familiar with Python.'"
      ]
     },
     "execution_count": 28,
     "metadata": {},
     "output_type": "execute_result"
    }
   ],
   "source": [
    "############\"\" checkpoint\n",
    "t=open(\"python.txt\",encoding = 'utf-8')\n",
    "t.read()\n",
    "\n",
    "\n"
   ]
  },
  {
   "cell_type": "code",
   "execution_count": 29,
   "id": "f65ee383-b9db-4feb-807e-f88d44ac0f90",
   "metadata": {},
   "outputs": [],
   "source": [
    "for line in t:\n",
    "    print(line, end = '')"
   ]
  },
  {
   "cell_type": "code",
   "execution_count": null,
   "id": "c111d751-83c0-4ef8-9b95-2c9b86388981",
   "metadata": {},
   "outputs": [],
   "source": [
    "print()"
   ]
  }
 ],
 "metadata": {
  "kernelspec": {
   "display_name": "Python 3",
   "language": "python",
   "name": "python3"
  },
  "language_info": {
   "codemirror_mode": {
    "name": "ipython",
    "version": 3
   },
   "file_extension": ".py",
   "mimetype": "text/x-python",
   "name": "python",
   "nbconvert_exporter": "python",
   "pygments_lexer": "ipython3",
   "version": "3.8.8"
  }
 },
 "nbformat": 4,
 "nbformat_minor": 5
}
